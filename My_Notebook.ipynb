{
 "cells": [
  {
   "cell_type": "code",
   "execution_count": 1,
   "id": "df6fed3e-3f95-4227-82d3-ec001cecf093",
   "metadata": {},
   "outputs": [
    {
     "data": {
      "text/plain": [
       "3"
      ]
     },
     "execution_count": 1,
     "metadata": {},
     "output_type": "execute_result"
    }
   ],
   "source": [
    "1+2"
   ]
  },
  {
   "cell_type": "code",
   "execution_count": 2,
   "id": "7c679e5b-daa7-45ae-8b42-53f2a12f95f3",
   "metadata": {},
   "outputs": [
    {
     "data": {
      "text/plain": [
       "12"
      ]
     },
     "execution_count": 2,
     "metadata": {},
     "output_type": "execute_result"
    }
   ],
   "source": [
    "2*6"
   ]
  },
  {
   "cell_type": "markdown",
   "id": "5c3672e8-dd1f-4661-b37c-11388140d2bc",
   "metadata": {},
   "source": [
    "My test on Jupter Notebook"
   ]
  },
  {
   "cell_type": "code",
   "execution_count": null,
   "id": "c27507d4-67f8-4b8b-8148-f691c1cd485a",
   "metadata": {},
   "outputs": [],
   "source": []
  }
 ],
 "metadata": {
  "kernelspec": {
   "display_name": "Python",
   "language": "python",
   "name": "conda-env-python-py"
  },
  "language_info": {
   "codemirror_mode": {
    "name": "ipython",
    "version": 3
   },
   "file_extension": ".py",
   "mimetype": "text/x-python",
   "name": "python",
   "nbconvert_exporter": "python",
   "pygments_lexer": "ipython3",
   "version": "3.7.12"
  }
 },
 "nbformat": 4,
 "nbformat_minor": 5
}
