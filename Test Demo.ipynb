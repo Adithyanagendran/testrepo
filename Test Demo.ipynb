{
    "cells": [
        {
            "cell_type": "markdown",
            "metadata": {},
            "source": "Data"
        },
        {
            "cell_type": "code",
            "execution_count": 1,
            "metadata": {},
            "outputs": [
                {
                    "data": {
                        "text/html": "<div>\n<style scoped>\n    .dataframe tbody tr th:only-of-type {\n        vertical-align: middle;\n    }\n\n    .dataframe tbody tr th {\n        vertical-align: top;\n    }\n\n    .dataframe thead th {\n        text-align: right;\n    }\n</style>\n<table border=\"1\" class=\"dataframe\">\n  <thead>\n    <tr style=\"text-align: right;\">\n      <th></th>\n      <th>SYMBOL \\n</th>\n      <th>PREV. CLOSE \\n</th>\n      <th>IEP  PRICE \\n</th>\n      <th>CHNG \\n</th>\n      <th>%CHNG \\n</th>\n      <th>FINAL PRICE \\n</th>\n      <th>FINAL QUANTITY \\n</th>\n      <th>VALUE</th>\n      <th>FFM CAP</th>\n      <th>NM 52W H \\n</th>\n      <th>NM 52W L \\n</th>\n    </tr>\n  </thead>\n  <tbody>\n    <tr>\n      <th>0</th>\n      <td>INDUSINDBK</td>\n      <td>946.40</td>\n      <td>960.00</td>\n      <td>13.60</td>\n      <td>1.44</td>\n      <td>960.00</td>\n      <td>66660</td>\n      <td>63,993,600.00</td>\n      <td>571,424,220,957.41</td>\n      <td>1,242.00</td>\n      <td>789.00</td>\n    </tr>\n    <tr>\n      <th>1</th>\n      <td>TATACONSUM</td>\n      <td>777.50</td>\n      <td>781.65</td>\n      <td>4.15</td>\n      <td>0.53</td>\n      <td>781.65</td>\n      <td>2980</td>\n      <td>2,329,317.00</td>\n      <td>465,729,197,968.13</td>\n      <td>889.00</td>\n      <td>551.00</td>\n    </tr>\n    <tr>\n      <th>2</th>\n      <td>POWERGRID</td>\n      <td>203.20</td>\n      <td>204.25</td>\n      <td>1.05</td>\n      <td>0.52</td>\n      <td>204.25</td>\n      <td>14190</td>\n      <td>2,898,307.50</td>\n      <td>694,531,890,762.75</td>\n      <td>216.45</td>\n      <td>136.88</td>\n    </tr>\n    <tr>\n      <th>3</th>\n      <td>TITAN</td>\n      <td>2,373.15</td>\n      <td>2,385.40</td>\n      <td>12.25</td>\n      <td>0.52</td>\n      <td>2,385.40</td>\n      <td>2297</td>\n      <td>5,479,263.80</td>\n      <td>990,219,371,033.88</td>\n      <td>2,677.90</td>\n      <td>1,396.00</td>\n    </tr>\n    <tr>\n      <th>4</th>\n      <td>DRREDDY</td>\n      <td>4,594.25</td>\n      <td>4,610.00</td>\n      <td>15.75</td>\n      <td>0.34</td>\n      <td>4,610.00</td>\n      <td>465</td>\n      <td>2,143,650.00</td>\n      <td>558,061,021,167.87</td>\n      <td>5,614.60</td>\n      <td>4,135.00</td>\n    </tr>\n  </tbody>\n</table>\n</div>",
                        "text/plain": "    SYMBOL \\n PREV. CLOSE \\n IEP  PRICE \\n CHNG \\n %CHNG \\n FINAL PRICE \\n  \\\n0  INDUSINDBK         946.40        960.00   13.60     1.44         960.00   \n1  TATACONSUM         777.50        781.65    4.15     0.53         781.65   \n2   POWERGRID         203.20        204.25    1.05     0.52         204.25   \n3       TITAN       2,373.15      2,385.40   12.25     0.52       2,385.40   \n4     DRREDDY       4,594.25      4,610.00   15.75     0.34       4,610.00   \n\n   FINAL QUANTITY \\n         VALUE             FFM CAP  NM 52W H \\n  \\\n0              66660  63,993,600.00  571,424,220,957.41    1,242.00   \n1               2980   2,329,317.00  465,729,197,968.13      889.00   \n2              14190   2,898,307.50  694,531,890,762.75      216.45   \n3               2297   5,479,263.80  990,219,371,033.88    2,677.90   \n4                465   2,143,650.00  558,061,021,167.87    5,614.60   \n\n  NM 52W L \\n  \n0      789.00  \n1      551.00  \n2      136.88  \n3    1,396.00  \n4    4,135.00  "
                    },
                    "execution_count": 1,
                    "metadata": {},
                    "output_type": "execute_result"
                }
            ],
            "source": "# The code was removed by Watson Studio for sharing."
        },
        {
            "cell_type": "code",
            "execution_count": null,
            "metadata": {},
            "outputs": [],
            "source": ""
        }
    ],
    "metadata": {
        "kernelspec": {
            "display_name": "Python 3.8",
            "language": "python",
            "name": "python3"
        },
        "language_info": {
            "codemirror_mode": {
                "name": "ipython",
                "version": 3
            },
            "file_extension": ".py",
            "mimetype": "text/x-python",
            "name": "python",
            "nbconvert_exporter": "python",
            "pygments_lexer": "ipython3",
            "version": "3.8.12"
        }
    },
    "nbformat": 4,
    "nbformat_minor": 1
}